{
 "cells": [
  {
   "cell_type": "code",
   "execution_count": 8,
   "metadata": {},
   "outputs": [],
   "source": [
    "#define accounts\n",
    "accounts = {}\n",
    "transactions = {}\n",
    "\n",
    "def create_account(account_number, name, initial_balance):\n",
    "    if account_number in accounts:\n",
    "        return \"Account already exists.\"\n",
    "    accounts[account_number] = {\"name\": name, \"balance\": initial_balance}\n",
    "    transactions[account_number] = []\n",
    "    return \"Account created successfully.\"\n"
   ]
  },
  {
   "cell_type": "code",
   "execution_count": 9,
   "metadata": {},
   "outputs": [],
   "source": [
    "def deposit(account_number, amount):\n",
    "    if account_number not in accounts:\n",
    "        return \"Account does not exist.\"\n",
    "    accounts[account_number][\"balance\"] += amount\n",
    "    transactions[account_number].append(f\"Deposited: {amount}\")\n",
    "    return f\"Deposited {amount} successfully.\"\n"
   ]
  },
  {
   "cell_type": "code",
   "execution_count": 10,
   "metadata": {},
   "outputs": [],
   "source": [
    "def withdraw(account_number, amount):\n",
    "    if account_number not in accounts:\n",
    "        return \"Account does not exist.\"\n",
    "    if accounts[account_number][\"balance\"] < amount:\n",
    "        return \"Insufficient funds.\"\n",
    "    accounts[account_number][\"balance\"] -= amount\n",
    "    transactions[account_number].append(f\"Withdrew: {amount}\")\n",
    "    return f\"Withdrew {amount} successfully.\"\n"
   ]
  },
  {
   "cell_type": "code",
   "execution_count": 11,
   "metadata": {},
   "outputs": [],
   "source": [
    "def check_balance(account_number):\n",
    "    if account_number not in accounts:\n",
    "        return \"Account does not exist.\"\n",
    "    return f\"Balance: {accounts[account_number]['balance']}\"\n"
   ]
  },
  {
   "cell_type": "code",
   "execution_count": 12,
   "metadata": {},
   "outputs": [],
   "source": [
    "def print_statement(account_number):\n",
    "    if account_number not in accounts:\n",
    "        return \"Account does not exist.\"\n",
    "    statement = \"\\n\".join(transactions[account_number])\n",
    "    return f\"Transaction Statement for {account_number}:\\n{statement}\"\n"
   ]
  },
  {
   "cell_type": "code",
   "execution_count": 13,
   "metadata": {},
   "outputs": [],
   "source": [
    "def save_data():\n",
    "    with open(\"accounts.txt\", \"w\") as f:\n",
    "        for acc_num, details in accounts.items():\n",
    "            f.write(f\"{acc_num},{details['name']},{details['balance']}\\n\")\n",
    "    with open(\"transactions.txt\", \"w\") as f:\n",
    "        for acc_num, logs in transactions.items():\n",
    "            f.write(f\"{acc_num}:{';'.join(logs)}\\n\")\n"
   ]
  },
  {
   "cell_type": "code",
   "execution_count": 14,
   "metadata": {},
   "outputs": [],
   "source": [
    "def load_data():\n",
    "    try:\n",
    "        with open(\"accounts.txt\", \"r\") as f:\n",
    "            for line in f:\n",
    "                acc_num, name, balance = line.strip().split(\",\")\n",
    "                accounts[acc_num] = {\"name\": name, \"balance\": float(balance)}\n",
    "        with open(\"transactions.txt\", \"r\") as f:\n",
    "            for line in f:\n",
    "                acc_num, logs = line.strip().split(\":\")\n",
    "                transactions[acc_num] = logs.split(\";\")\n",
    "    except FileNotFoundError:\n",
    "        pass  # First run, no data to load.\n"
   ]
  },
  {
   "cell_type": "code",
   "execution_count": 19,
   "metadata": {},
   "outputs": [],
   "source": [
    "def main():\n",
    "    load_data()\n",
    "    while True:\n",
    "        print(\"\\nBanking System Menu:\")\n",
    "        print(\"1. Create Account\")\n",
    "        print(\"2. Deposit Money\")\n",
    "        print(\"3. Withdraw Money\")\n",
    "        print(\"4. Check Balance\")\n",
    "        print(\"5. Print Transaction Statement\")\n",
    "        print(\"6. Exit\")\n",
    "        \n",
    "        choice = input(\"Enter your choice: \")\n",
    "        \n",
    "        if choice == \"1\":\n",
    "            acc_num = input(\"Enter account number: \")\n",
    "            name = input(\"Enter account holder's name: \")\n",
    "            balance = float(input(\"Enter initial balance: \"))\n",
    "            print(create_account(acc_num, name, balance))\n",
    "        elif choice == \"2\":\n",
    "            acc_num = input(\"Enter account number: \")\n",
    "            amount = float(input(\"Enter amount to deposit: \"))\n",
    "            print(deposit(acc_num, amount))\n",
    "        elif choice == \"3\":\n",
    "            acc_num = input(\"Enter account number: \")\n",
    "            amount = float(input(\"Enter amount to withdraw: \"))\n",
    "            print(withdraw(acc_num, amount))\n",
    "        elif choice == \"4\":\n",
    "            acc_num = input(\"Enter account number: \")\n",
    "            print(check_balance(acc_num))\n",
    "        elif choice == \"5\":\n",
    "            acc_num = input(\"Enter account number: \")\n",
    "            print(print_statement(acc_num))\n",
    "        elif choice == \"6\":\n",
    "            save_data()\n",
    "            print(\"Exiting the banking system. Goodbye!\")\n",
    "            break\n",
    "        else:\n",
    "            print(\"Invalid choice. Please try again.\")\n"
   ]
  },
  {
   "cell_type": "markdown",
   "metadata": {},
   "source": [
    "https://docs.google.com/forms/d/e/1FAIpQLScV-RGuGm_0m-CjVpBJbrM_v_RNywQt0HG6PA_V5rZHe5Y49g/viewform?pli=1 \n",
    "\n",
    "# SMIT-ZAIT AI & DS Mandatory Quizz FUnctional Programming"
   ]
  }
 ],
 "metadata": {
  "kernelspec": {
   "display_name": "Python 3",
   "language": "python",
   "name": "python3"
  },
  "language_info": {
   "codemirror_mode": {
    "name": "ipython",
    "version": 3
   },
   "file_extension": ".py",
   "mimetype": "text/x-python",
   "name": "python",
   "nbconvert_exporter": "python",
   "pygments_lexer": "ipython3",
   "version": "3.13.0"
  }
 },
 "nbformat": 4,
 "nbformat_minor": 2
}
