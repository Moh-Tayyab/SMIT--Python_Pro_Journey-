{
 "cells": [
  {
   "cell_type": "markdown",
   "metadata": {},
   "source": [
    "Functions:\n",
    " "
   ]
  },
  {
   "cell_type": "code",
   "execution_count": 4,
   "metadata": {},
   "outputs": [
    {
     "name": "stdout",
     "output_type": "stream",
     "text": [
      "30\n"
     ]
    }
   ],
   "source": [
    "def add():\n",
    "    a=10\n",
    "    b=20\n",
    "    print(a+b)\n",
    "    \n",
    "add() "
   ]
  },
  {
   "cell_type": "code",
   "execution_count": null,
   "metadata": {},
   "outputs": [
    {
     "name": "stdout",
     "output_type": "stream",
     "text": [
      "30\n"
     ]
    }
   ],
   "source": [
    "add(...)"
   ]
  },
  {
   "cell_type": "code",
   "execution_count": 4,
   "metadata": {},
   "outputs": [
    {
     "name": "stdout",
     "output_type": "stream",
     "text": [
      "Muhammad\n"
     ]
    }
   ],
   "source": [
    "def greet(name):\n",
    "    print(name)\n",
    "   \n",
    "greet('Muhammad')    \n",
    "    "
   ]
  },
  {
   "cell_type": "code",
   "execution_count": 6,
   "metadata": {},
   "outputs": [
    {
     "name": "stdout",
     "output_type": "stream",
     "text": [
      "11\n"
     ]
    }
   ],
   "source": [
    "def add(a,b):\n",
    "    print(a+b)\n",
    "  \n",
    "add(5, 6)    "
   ]
  },
  {
   "cell_type": "code",
   "execution_count": null,
   "metadata": {},
   "outputs": [],
   "source": [
    "def add(a,b,c=100):\n",
    "    print(a+b+c)      \n",
    "    \n",
    "    add(1,2) # Output: 103"
   ]
  },
  {
   "cell_type": "markdown",
   "metadata": {},
   "source": [
    "#key arguments"
   ]
  },
  {
   "cell_type": "code",
   "execution_count": 7,
   "metadata": {},
   "outputs": [
    {
     "data": {
      "text/plain": [
       "{'name': 'John Doe',\n",
       " 'age': 30,\n",
       " 'qualification': 'Bachelor of Science',\n",
       " 'profession': 'Engineer',\n",
       " 'gender': 'Male'}"
      ]
     },
     "execution_count": 7,
     "metadata": {},
     "output_type": "execute_result"
    }
   ],
   "source": [
    "def gen_profile(name, age, qual, prof, gender):\n",
    "  profile = {'name': name, 'age': age, 'qualification': qual, 'profession': prof, 'gender': gender}\n",
    "  return profile\n",
    "\n",
    "# using keyword arguments\n",
    "\n",
    "gen_profile(name='John Doe', age=30, qual='Bachelor of Science', prof='Engineer', gender='Male')    "
   ]
  },
  {
   "cell_type": "code",
   "execution_count": 9,
   "metadata": {},
   "outputs": [],
   "source": [
    "def profile_builder(name, age, qualification, icome, *other):\n",
    "    profile = {}\n",
    "    profile['name'] = name  \n",
    "    profile['age'] = age\n",
    "    profile['qualification'] = qualification\n",
    "    profile['income'] = icome\n",
    "    profile['other'] = other\n",
    "    \n",
    "    print(profile)\n",
    "    \n",
    "    profile_builder('Arish', 24, 'Graduate', 50000, 'DataScientsit', 'Fair', '5.8')\n",
    "    "
   ]
  },
  {
   "cell_type": "code",
   "execution_count": null,
   "metadata": {},
   "outputs": [
    {
     "name": "stdout",
     "output_type": "stream",
     "text": [
      "{'name': 'John', 'age': 25, 'qualification': 'Bachelor of Science', 'income': 50000, 'city': 'New York', 'country': 'USA', 'occupation': 'Software Engineer'}\n"
     ]
    }
   ],
   "source": [
    "def profile_builder(name, age, qualification, icome, **other):\n",
    "    profile = {}\n",
    "    profile['name'] = name  \n",
    "    profile['age'] = age\n",
    "    profile['qualification'] = qualification\n",
    "    profile['income'] = icome\n",
    "    profile.update(other)\n",
    "    \n",
    "    print(profile)  \n",
    "    \n",
    "    \n",
    "profile_builder(\n",
    "    name=\"John\",\n",
    "    age=25,\n",
    "    qualification=\"Bachelor of Science\",\n",
    "    icome=50000,\n",
    "    city=\"New York\",\n",
    "    country=\"USA\",\n",
    "    occupation=\"Software Engineer\",\n",
    ")"
   ]
  }
 ],
 "metadata": {
  "kernelspec": {
   "display_name": "Python 3",
   "language": "python",
   "name": "python3"
  },
  "language_info": {
   "codemirror_mode": {
    "name": "ipython",
    "version": 3
   },
   "file_extension": ".py",
   "mimetype": "text/x-python",
   "name": "python",
   "nbconvert_exporter": "python",
   "pygments_lexer": "ipython3",
   "version": "3.13.0"
  }
 },
 "nbformat": 4,
 "nbformat_minor": 2
}
